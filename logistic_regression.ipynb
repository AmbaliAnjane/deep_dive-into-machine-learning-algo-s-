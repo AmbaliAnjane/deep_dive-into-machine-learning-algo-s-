# -*- coding: utf-8 -*-
"""
Created on Wed Oct 26 13:43:01 2022

@author: DELL
"""

import pandas as pd
import numpy as np
import sklearn
import seaborn as sns
dataset=pd.read_csv(r"C:\Users\DELL\Downloads\15. Logistic regression with future prediction\Social_Network_Ads.csv")
x=dataset.iloc[:,[2,3]].values
y=dataset.iloc[:,-1].values
#spliting train and test
from sklearn.model_selection import train_test_split
x_train,x_test,y_train,y_test=train_test_split(x,y,test_size=.20,random_state=0)
#feature scalling
from sklearn.preprocessing import StandardScaler
sc=StandardScaler()
x_train=sc.fit_transform(x_train)
x_test=sc.transform(x_test)
#logistic regression model building
from sklearn.linear_model import LogisticRegression
classifier=LogisticRegression()
classifier.fit(x_train,y_train)
#predicting test results
y_pred=classifier.predict(x_test)
#checking accuracy of results
from sklearn.metrics import confusion_matrix
cm=confusion_matrix(y_test,y_pred)
print(cm)
from sklearn.metrics import accuracy_score
sc=accuracy_score(y_test,y_pred)
print(sc)
#it is a good model with 92.5% accuracy
#checking biasness
bias=classifier.score(x_train,y_train)
variance=classifier.score(x_test,y_test)
#future prediction
dataset1=pd.read_csv(r"C:\Users\DELL\Downloads\15. Logistic regression with future prediction\Future prediction1.csv")
d2=dataset1.copy()
dataset1=dataset1.iloc[:,[2,3]].values
from sklearn.preprocessing import StandardScaler
sc=StandardScaler()
m=sc.fit_transform(dataset1)
y_pred1=pd.DataFrame()
d2['y_pred1']=classifier.predict(m)
d2.to_csv('final2.csv')
